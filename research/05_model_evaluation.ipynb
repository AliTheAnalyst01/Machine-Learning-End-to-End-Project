{
 "cells": [
  {
   "cell_type": "code",
   "execution_count": 1,
   "metadata": {},
   "outputs": [],
   "source": [
    "import os"
   ]
  },
  {
   "cell_type": "code",
   "execution_count": 2,
   "metadata": {},
   "outputs": [
    {
     "data": {
      "text/plain": [
       "'f:\\\\OneDrive - MSFT\\\\wine_quality_ML\\\\Machine-Learning-End-to-End-Project\\\\research'"
      ]
     },
     "execution_count": 2,
     "metadata": {},
     "output_type": "execute_result"
    }
   ],
   "source": [
    "%pwd"
   ]
  },
  {
   "cell_type": "code",
   "execution_count": 3,
   "metadata": {},
   "outputs": [],
   "source": [
    "os.chdir('../')"
   ]
  },
  {
   "cell_type": "code",
   "execution_count": 4,
   "metadata": {},
   "outputs": [
    {
     "data": {
      "text/plain": [
       "'f:\\\\OneDrive - MSFT\\\\wine_quality_ML\\\\Machine-Learning-End-to-End-Project'"
      ]
     },
     "execution_count": 4,
     "metadata": {},
     "output_type": "execute_result"
    }
   ],
   "source": [
    "%pwd"
   ]
  },
  {
   "cell_type": "code",
   "execution_count": 5,
   "metadata": {},
   "outputs": [],
   "source": [
    "# entity class\n",
    "from dataclasses import dataclass\n",
    "from pathlib import Path\n",
    "\n",
    "@dataclass(frozen=True)\n",
    "class ModelEvalutionConfig:\n",
    "    root_dir: Path\n",
    "    test_data_path: Path\n",
    "    model_path: Path\n",
    "    all_params: dict\n",
    "    metric_file_name: str\n",
    "    target_column: str"
   ]
  },
  {
   "cell_type": "code",
   "execution_count": 6,
   "metadata": {},
   "outputs": [],
   "source": [
    "from MLProject_WineQT.constants.const import *\n",
    "from src.MLProject_WineQT.utils.common import read_yaml, create_directories,save_json\n",
    "import pandas as pd"
   ]
  },
  {
   "cell_type": "code",
   "execution_count": 7,
   "metadata": {},
   "outputs": [],
   "source": [
    "class ConfigurationManager:\n",
    "    def __init__(self, \n",
    "                 config_filepath=CONFIG_FILE_PATH,\n",
    "                 params_filepath=PARAMS_FILE_PATH,\n",
    "                 schema_filepath=SCHEMA_FILE_PATH):\n",
    "        \n",
    "        # Load config, params, and schema YAML files\n",
    "        self.config = read_yaml(config_filepath)  # Ensure this loads the YAML correctly\n",
    "        self.params = read_yaml(params_filepath)\n",
    "        self.schema = read_yaml(schema_filepath)\n",
    "        \n",
    "        # Debugging: Print loaded config, params, and schema\n",
    "        print(f\"Loaded config: {self.config}\")\n",
    "        print(f\"Loaded params: {self.params}\")\n",
    "        print(f\"Loaded schema: {self.schema}\")\n",
    "\n",
    "        # Create directories specified in the config\n",
    "        create_directories([self.config.artifacts_root])\n",
    "        \n",
    "    def get_model_evalution_config(self) -> ModelEvalutionConfig:\n",
    "        config = self.config.model_evalution\n",
    "        params = self.params.ElasticNet\n",
    "        schema = self.schema.TARGET_COLUMN\n",
    "        \n",
    "        create_directories([config.root_dir])\n",
    "        \n",
    "        \n",
    "        \n",
    "        model_evalution_config = ModelEvalutionConfig(\n",
    "            root_dir=config.root_dir,\n",
    "            test_data_path=config.test_data_path,\n",
    "            model_path=config.model_path,\n",
    "            all_params=params,\n",
    "            metric_file_name=config.metric_file_name,\n",
    "            target_column=schema.name\n",
    "        )\n",
    "        return model_evalution_config"
   ]
  },
  {
   "cell_type": "code",
   "execution_count": 8,
   "metadata": {},
   "outputs": [],
   "source": [
    "# component\n",
    "import os\n",
    "import pandas as pd\n",
    "import json\n",
    "from sklearn.metrics import mean_squared_error,mean_absolute_error,r2_score\n",
    "from urllib.parse import urlparse\n",
    "import numpy as np\n",
    "import joblib\n"
   ]
  },
  {
   "cell_type": "code",
   "execution_count": 9,
   "metadata": {},
   "outputs": [],
   "source": [
    "class ModelEvalution:\n",
    "    def __init__(self,config:ModelEvalutionConfig):\n",
    "        self.config = config \n",
    "        \n",
    "    def eval_metrics(self, actual, pred):\n",
    "            rmse = np.sqrt(mean_squared_error(actual,pred))\n",
    "            mae = mean_absolute_error(actual,pred)\n",
    "            r2 = r2_score(actual,pred)\n",
    "        \n",
    "            return rmse,mae,r2\n",
    "    \n",
    "    def save_result(self):\n",
    "        test_data = pd.read_csv(self.config.test_data_path)\n",
    "        model = joblib.load(self.config.model_path)\n",
    "        test_x = test_data.drop([self.config.target_column],axis=1)\n",
    "        test_y = test_data[[self.config.target_column]]\n",
    "        \n",
    "        predicted_qualities = model.predict(test_x)\n",
    "        (rmse,mae,r2)=self.eval_metrics(test_y, predicted_qualities)\n",
    "        score = {'rmse':rmse,'mae':mae,'r2':r2}\n",
    "        save_json(path=Path(self.config.metric_file_name),data=score)"
   ]
  },
  {
   "cell_type": "code",
   "execution_count": 10,
   "metadata": {},
   "outputs": [
    {
     "name": "stdout",
     "output_type": "stream",
     "text": [
      "[2024-10-05 14:01:37,179: INFO: common: yaml file:config\\config.yaml load successfuly]\n",
      "[2024-10-05 14:01:37,184: INFO: common: yaml file:params.yaml load successfuly]\n",
      "[2024-10-05 14:01:37,191: INFO: common: yaml file:schema.yaml load successfuly]\n",
      "Loaded config: {'artifacts_root': 'artifacts', 'data_ingestion': {'root_dir': 'artifacts/data_ingestion', 'source_URL': 'https://github.com/AliTheAnalyst01/livesensor/raw/refs/heads/main/WineQT.zip', 'local_data_file': 'artifacts/data_ingestion/data.zip', 'unzip_dir': 'artifacts/data_ingestion/unzipped_data'}, 'data_validation': {'root_dir': 'artifacts/data_validation', 'STATUS_FILE': 'artifacts/data_validation/status.txt', 'unzip_data_dir': 'artifacts/data_ingestion/unzipped_data/WineQT.csv'}, 'data_transformation': {'root_dir': 'artifacts/data_transformation', 'data_path': 'artifacts/data_ingestion/unzipped_data/WineQT.csv'}, 'model_trainer': {'root_dir': 'artifacts/model_trainer', 'train_data_path': 'artifacts/data_transformation/train.csv', 'test_data_path': 'artifacts/data_transformation/test.csv', 'model_name': 'model.joblib'}, 'model_evalution': {'root_dir': 'artifacts/model_evalution', 'test_data_path': 'artifacts/data_transformation/test.csv', 'model_path': 'artifacts/model_trainer/model.joblib', 'metric_file_name': 'artifacts/model_evalution/metrics.json'}}\n",
      "Loaded params: {'ElasticNet': {'alpha': 0.2, 'l1_ratio': 0.1}}\n",
      "Loaded schema: {'COLUMNS': {'fixed acidity': 'float64', 'volatile acidity': 'float64', 'citric acid': 'float64', 'residual sugar': 'float64', 'chlorides': 'float64', 'free sulfur dioxide': 'float64', 'total sulfur dioxide': 'float64', 'density': 'float64', 'pH': 'float64', 'sulphates': 'float64', 'alcohol': 'float64', 'quality': 'int64', 'Id': 'int64'}, 'TARGET_COLUMN': {'name': 'quality'}}\n",
      "[2024-10-05 14:01:37,194: INFO: common: created directories at: artifacts]\n",
      "[2024-10-05 14:01:37,197: INFO: common: created directories at: artifacts/model_evalution]\n",
      "[2024-10-05 14:01:38,917: INFO: common: json file saved artifacts\\model_evalution\\metrics.json]\n"
     ]
    }
   ],
   "source": [
    "#pipeline\n",
    "try:\n",
    "    config = ConfigurationManager()\n",
    "    model_evalution_config = config.get_model_evalution_config()\n",
    "    model_evalution_config = ModelEvalution(config=model_evalution_config)\n",
    "    model_evalution_config.save_result()\n",
    "except Exception as e:\n",
    "    raise e"
   ]
  },
  {
   "cell_type": "code",
   "execution_count": null,
   "metadata": {},
   "outputs": [],
   "source": []
  }
 ],
 "metadata": {
  "kernelspec": {
   "display_name": "yt_video_sum",
   "language": "python",
   "name": "python3"
  },
  "language_info": {
   "codemirror_mode": {
    "name": "ipython",
    "version": 3
   },
   "file_extension": ".py",
   "mimetype": "text/x-python",
   "name": "python",
   "nbconvert_exporter": "python",
   "pygments_lexer": "ipython3",
   "version": "3.11.9"
  }
 },
 "nbformat": 4,
 "nbformat_minor": 2
}
