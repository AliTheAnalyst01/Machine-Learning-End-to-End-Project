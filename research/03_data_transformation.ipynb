{
 "cells": [
  {
   "cell_type": "code",
   "execution_count": 1,
   "metadata": {},
   "outputs": [],
   "source": [
    "import os"
   ]
  },
  {
   "cell_type": "code",
   "execution_count": 2,
   "metadata": {},
   "outputs": [
    {
     "data": {
      "text/plain": [
       "'f:\\\\OneDrive - MSFT\\\\wine_quality_ML\\\\Machine-Learning-End-to-End-Project\\\\research'"
      ]
     },
     "execution_count": 2,
     "metadata": {},
     "output_type": "execute_result"
    }
   ],
   "source": [
    "%pwd"
   ]
  },
  {
   "cell_type": "code",
   "execution_count": 3,
   "metadata": {},
   "outputs": [],
   "source": [
    "os.chdir('../')"
   ]
  },
  {
   "cell_type": "code",
   "execution_count": 4,
   "metadata": {},
   "outputs": [
    {
     "data": {
      "text/plain": [
       "'f:\\\\OneDrive - MSFT\\\\wine_quality_ML\\\\Machine-Learning-End-to-End-Project'"
      ]
     },
     "execution_count": 4,
     "metadata": {},
     "output_type": "execute_result"
    }
   ],
   "source": [
    "%pwd"
   ]
  },
  {
   "cell_type": "code",
   "execution_count": 5,
   "metadata": {},
   "outputs": [],
   "source": [
    "from dataclasses import dataclass\n",
    "from pathlib import Path\n",
    "\n",
    "@dataclass(frozen=True)\n",
    "class DataTransformationConfig:\n",
    "    root_dir: Path\n",
    "    data_path: Path"
   ]
  },
  {
   "cell_type": "code",
   "execution_count": 6,
   "metadata": {},
   "outputs": [],
   "source": [
    "# configuration Manager\n",
    "from src.MLProject_WineQT.constants.const import *\n",
    "from src.MLProject_WineQT.utils.common import read_yaml, create_directories\n",
    "import pandas as pd"
   ]
  },
  {
   "cell_type": "code",
   "execution_count": 7,
   "metadata": {},
   "outputs": [],
   "source": [
    "class ConfigurationManager:\n",
    "    def __init__(self, \n",
    "                 config_filepath=CONFIG_FILE_PATH,\n",
    "                 params_filepath=PARAMS_FILE_PATH,\n",
    "                 schema_filepath=SCHEMA_FILE_PATH):\n",
    "        \n",
    "        # Load config, params, and schema YAML files\n",
    "        self.config = read_yaml(config_filepath)  # Ensure this loads the YAML correctly\n",
    "        self.params = read_yaml(params_filepath)\n",
    "        self.schema = read_yaml(schema_filepath)\n",
    "        \n",
    "        # Debugging: Print loaded config, params, and schema\n",
    "        print(f\"Loaded config: {self.config}\")\n",
    "        print(f\"Loaded params: {self.params}\")\n",
    "        print(f\"Loaded schema: {self.schema}\")\n",
    "\n",
    "        # Create directories specified in the config\n",
    "        create_directories([self.config.artifacts_root])\n",
    "        \n",
    "        \n",
    "    def get_data_transformation_config(self) -> DataTransformationConfig:\n",
    "        config = self.config.data_transformation\n",
    "        create_directories([config.root_dir])\n",
    "        \n",
    "        data_transformation_config=DataTransformationConfig(\n",
    "            root_dir=config.root_dir,\n",
    "            data_path=config.data_path\n",
    "        )\n",
    "        return data_transformation_config"
   ]
  },
  {
   "cell_type": "code",
   "execution_count": 8,
   "metadata": {},
   "outputs": [],
   "source": [
    "import os\n",
    "from src.MLProject_WineQT.my_logging.loger import logger\n",
    "from sklearn.model_selection import train_test_split\n",
    "import pandas as pd"
   ]
  },
  {
   "cell_type": "code",
   "execution_count": 9,
   "metadata": {},
   "outputs": [],
   "source": [
    "class DataTransformation:\n",
    "    def __init__(self,config: DataTransformationConfig):\n",
    "        self.config = config\n",
    "    # Note you can add different data transformation technique such as scaler,PCA, and all  \n",
    "    # you can perform all kind of the EDA in ML cycle here before passing this data to the model\n",
    "    \n",
    "    # i am only add the train_test_split becuse this data is already cleaned\n",
    "    \n",
    "    def train_test_spliting(self):\n",
    "        data = pd.read_csv(self.config.data_path)\n",
    "        train,test = train_test_split(data)\n",
    "        \n",
    "        train.to_csv(os.path.join(self.config.root_dir,'train.csv'),index=False)\n",
    "        test.to_csv(os.path.join(self.config.root_dir,'test.csv'),index=False)\n",
    "        \n",
    "        logger.info('spliting the data in the train and test sets')\n",
    "        logger.info(train.shape)\n",
    "        logger.info(test.shape)\n",
    "        \n",
    "        \n",
    "        print(train.shape)\n",
    "        print(test.shape)\n",
    "        "
   ]
  },
  {
   "cell_type": "code",
   "execution_count": 10,
   "metadata": {},
   "outputs": [
    {
     "name": "stdout",
     "output_type": "stream",
     "text": [
      "[2024-10-05 05:13:12,518: INFO: common: yaml file:config\\config.yaml load successfuly]\n",
      "[2024-10-05 05:13:12,524: INFO: common: yaml file:params.yaml load successfuly]\n",
      "[2024-10-05 05:13:12,555: INFO: common: yaml file:schema.yaml load successfuly]\n",
      "Loaded config: {'artifacts_root': 'artifacts', 'data_ingestion': {'root_dir': 'artifacts/data_ingestion', 'source_URL': 'https://github.com/AliTheAnalyst01/Machine-Learning-End-to-End-Project/raw/refs/heads/main/WineQT.zip', 'local_data_file': 'artifacts/data_ingestion/data.zip', 'unzip_dir': 'artifacts/data_ingestion/unzipped_data'}, 'data_validation': {'root_dir': 'artifacts/data_validation', 'STATUS_FILE': 'artifacts/data_validation/status.txt', 'unzip_data_dir': 'artifacts/data_ingestion/unzipped_data/WineQT.csv'}, 'data_transformation': {'root_dir': 'artifacts/data_transformation', 'data_path': 'artifacts/data_ingestion/unzipped_data/WineQT.csv'}}\n",
      "Loaded params: {'key': 'val'}\n",
      "Loaded schema: {'COLUMNS': {'fixed acidity': 'float64', 'volatile acidity': 'float64', 'citric acid': 'float64', 'residual sugar': 'float64', 'chlorides': 'float64', 'free sulfur dioxide': 'float64', 'total sulfur dioxide': 'float64', 'density': 'float64', 'pH': 'float64', 'sulphates': 'float64', 'alcohol': 'float64', 'quality': 'int64', 'Id': 'int64'}, 'TARGET_COLUMN': {'name': 'quality'}}\n",
      "[2024-10-05 05:13:12,567: INFO: common: created directories at: artifacts]\n",
      "[2024-10-05 05:13:12,571: INFO: common: created directories at: artifacts/data_transformation]\n",
      "[2024-10-05 05:13:13,239: INFO: 2848881400: spliting the data in the train and test sets]\n",
      "[2024-10-05 05:13:13,243: INFO: 2848881400: (857, 13)]\n",
      "[2024-10-05 05:13:13,244: INFO: 2848881400: (286, 13)]\n",
      "(857, 13)\n",
      "(286, 13)\n"
     ]
    }
   ],
   "source": [
    "# pipeling\n",
    "try:\n",
    "    config = ConfigurationManager()\n",
    "    data_transformation_config = config.get_data_transformation_config()\n",
    "    data_transformation = DataTransformation(config=data_transformation_config)\n",
    "    data_transformation.train_test_spliting()\n",
    "except Exception as e:\n",
    "    raise e\n",
    "    "
   ]
  },
  {
   "cell_type": "code",
   "execution_count": null,
   "metadata": {},
   "outputs": [],
   "source": []
  }
 ],
 "metadata": {
  "kernelspec": {
   "display_name": "yt_video_sum",
   "language": "python",
   "name": "python3"
  },
  "language_info": {
   "codemirror_mode": {
    "name": "ipython",
    "version": 3
   },
   "file_extension": ".py",
   "mimetype": "text/x-python",
   "name": "python",
   "nbconvert_exporter": "python",
   "pygments_lexer": "ipython3",
   "version": "3.11.9"
  }
 },
 "nbformat": 4,
 "nbformat_minor": 2
}
